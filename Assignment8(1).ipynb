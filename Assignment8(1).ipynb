{
 "cells": [
  {
   "cell_type": "code",
   "execution_count": 10,
   "metadata": {},
   "outputs": [
    {
     "name": "stdout",
     "output_type": "stream",
     "text": [
      "0    1\n",
      "1    2\n",
      "2    0\n",
      "3    1\n",
      "4    2\n",
      "5    3\n",
      "6    4\n",
      "7    0\n",
      "8    1\n",
      "9    2\n",
      "Name: Y, dtype: int64\n"
     ]
    }
   ],
   "source": [
    "import pandas as pd\n",
    "import numpy as np\n",
    "\n",
    "df = pd.DataFrame({'X': [7, 2, 0, 3, 4, 2, 5, 0, 3, 4]})\n",
    "\n",
    "izero = np.r_[-1, (df['X'] == 0).nonzero()[0]] # indices of zeros\n",
    "idx = np.arange(len(df))\n",
    "df['Y'] = idx - izero[np.searchsorted(izero - 1, idx) - 1]\n",
    "\n",
    "print(df['Y'])\n",
    "\n"
   ]
  },
  {
   "cell_type": "code",
   "execution_count": 5,
   "metadata": {},
   "outputs": [
    {
     "name": "stdout",
     "output_type": "stream",
     "text": [
      "DatetimeIndex(['2015-01-01', '2015-01-02', '2015-01-05', '2015-01-06',\n",
      "               '2015-01-07', '2015-01-08', '2015-01-09', '2015-01-12',\n",
      "               '2015-01-13', '2015-01-14',\n",
      "               ...\n",
      "               '2015-12-18', '2015-12-21', '2015-12-22', '2015-12-23',\n",
      "               '2015-12-24', '2015-12-25', '2015-12-28', '2015-12-29',\n",
      "               '2015-12-30', '2015-12-31'],\n",
      "              dtype='datetime64[ns]', length=261, freq='B')\n",
      "\n",
      "\n",
      "\n",
      "2015-01-01    0.280242\n",
      "2015-01-02    0.552706\n",
      "2015-01-05    0.852426\n",
      "2015-01-06    0.562905\n",
      "2015-01-07    0.585875\n",
      "2015-01-08    0.484258\n",
      "2015-01-09    0.902398\n",
      "2015-01-12    0.343157\n",
      "2015-01-13    0.776381\n",
      "2015-01-14    0.900921\n",
      "2015-01-15    0.629210\n",
      "2015-01-16    0.586195\n",
      "2015-01-19    0.578564\n",
      "2015-01-20    0.782542\n",
      "2015-01-21    0.784371\n",
      "2015-01-22    0.392744\n",
      "2015-01-23    0.433930\n",
      "2015-01-26    0.490754\n",
      "2015-01-27    0.836696\n",
      "2015-01-28    0.486445\n",
      "2015-01-29    0.405107\n",
      "2015-01-30    0.322072\n",
      "2015-02-02    0.290147\n",
      "2015-02-03    0.358461\n",
      "2015-02-04    0.168942\n",
      "2015-02-05    0.585980\n",
      "2015-02-06    0.327918\n",
      "2015-02-09    0.827112\n",
      "2015-02-10    0.277477\n",
      "2015-02-11    0.819430\n",
      "                ...   \n",
      "2015-11-20    0.725139\n",
      "2015-11-23    0.310721\n",
      "2015-11-24    0.867789\n",
      "2015-11-25    0.015982\n",
      "2015-11-26    0.643568\n",
      "2015-11-27    0.906863\n",
      "2015-11-30    0.536162\n",
      "2015-12-01    0.949486\n",
      "2015-12-02    0.245943\n",
      "2015-12-03    0.020938\n",
      "2015-12-04    0.176345\n",
      "2015-12-07    0.799896\n",
      "2015-12-08    0.819685\n",
      "2015-12-09    0.951056\n",
      "2015-12-10    0.043044\n",
      "2015-12-11    0.929727\n",
      "2015-12-14    0.599806\n",
      "2015-12-15    0.782314\n",
      "2015-12-16    0.809454\n",
      "2015-12-17    0.509283\n",
      "2015-12-18    0.204521\n",
      "2015-12-21    0.821563\n",
      "2015-12-22    0.879348\n",
      "2015-12-23    0.762870\n",
      "2015-12-24    0.461678\n",
      "2015-12-25    0.624431\n",
      "2015-12-28    0.463589\n",
      "2015-12-29    0.353559\n",
      "2015-12-30    0.291333\n",
      "2015-12-31    0.178086\n",
      "Freq: B, Length: 261, dtype: float64\n"
     ]
    }
   ],
   "source": [
    "import pandas as pd\n",
    "dti = pd.date_range(start='2015-01-01', end='2015-12-31', freq='B') \n",
    "print(dti)\n",
    "print('\\n\\n')\n",
    "\n",
    "#Index the series, s be the index\n",
    "s = pd.Series(np.random.rand(len(dti)), index=dti)\n",
    "print(s)"
   ]
  },
  {
   "cell_type": "markdown",
   "metadata": {},
   "source": [
    "3) Find the sum of the values in s for every Wednesday"
   ]
  },
  {
   "cell_type": "code",
   "execution_count": 6,
   "metadata": {},
   "outputs": [
    {
     "data": {
      "text/plain": [
       "26.814802987731042"
      ]
     },
     "execution_count": 6,
     "metadata": {},
     "output_type": "execute_result"
    }
   ],
   "source": [
    "s[dti.weekday == 2].sum() "
   ]
  },
  {
   "cell_type": "markdown",
   "metadata": {},
   "source": [
    "4) Average For each calendar month"
   ]
  },
  {
   "cell_type": "code",
   "execution_count": 7,
   "metadata": {},
   "outputs": [
    {
     "data": {
      "text/plain": [
       "2015-01-31    0.589541\n",
       "2015-02-28    0.454435\n",
       "2015-03-31    0.516619\n",
       "2015-04-30    0.540800\n",
       "2015-05-31    0.581563\n",
       "2015-06-30    0.578953\n",
       "2015-07-31    0.563426\n",
       "2015-08-31    0.550628\n",
       "2015-09-30    0.539029\n",
       "2015-10-31    0.503502\n",
       "2015-11-30    0.483782\n",
       "2015-12-31    0.551215\n",
       "Freq: M, dtype: float64"
      ]
     },
     "execution_count": 7,
     "metadata": {},
     "output_type": "execute_result"
    }
   ],
   "source": [
    "s.resample('M').mean()"
   ]
  },
  {
   "cell_type": "markdown",
   "metadata": {},
   "source": [
    "5) For each group of four consecutive calendar months in s, find the date on which the\n",
    "highest value occurred."
   ]
  },
  {
   "cell_type": "code",
   "execution_count": 8,
   "metadata": {},
   "outputs": [
    {
     "data": {
      "text/plain": [
       "2015-01-31   2015-01-09\n",
       "2015-05-31   2015-04-16\n",
       "2015-09-30   2015-08-24\n",
       "2016-01-31   2015-10-23\n",
       "dtype: datetime64[ns]"
      ]
     },
     "execution_count": 8,
     "metadata": {},
     "output_type": "execute_result"
    }
   ],
   "source": [
    "s.groupby(pd.Grouper(freq='4M')).idxmax()"
   ]
  }
 ],
 "metadata": {
  "kernelspec": {
   "display_name": "Python 3",
   "language": "python",
   "name": "python3"
  },
  "language_info": {
   "codemirror_mode": {
    "name": "ipython",
    "version": 3
   },
   "file_extension": ".py",
   "mimetype": "text/x-python",
   "name": "python",
   "nbconvert_exporter": "python",
   "pygments_lexer": "ipython3",
   "version": "3.6.5"
  }
 },
 "nbformat": 4,
 "nbformat_minor": 2
}
